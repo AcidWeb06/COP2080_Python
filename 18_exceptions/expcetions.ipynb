{
 "cells": [
  {
   "cell_type": "code",
   "execution_count": 6,
   "id": "48f99b13",
   "metadata": {},
   "outputs": [
    {
     "name": "stdout",
     "output_type": "stream",
     "text": [
      "Cannot add a string and an int\n",
      "Very important code\n"
     ]
    }
   ],
   "source": [
    "'''a = 1\n",
    "a + \"a\"\n",
    "\n",
    "print(\"Very important code\")'''\n",
    "\n",
    "#Try exception block\n",
    "\n",
    "try:\n",
    "    a = 1\n",
    "    a + \"a\"\n",
    "except TypeError as e:\n",
    "    print(\"Cannot add a string and an int\")\n",
    "\n",
    "print(\"Very important code\")"
   ]
  },
  {
   "cell_type": "code",
   "execution_count": 8,
   "id": "0da50966",
   "metadata": {},
   "outputs": [
    {
     "name": "stdout",
     "output_type": "stream",
     "text": [
      "Error: list index out of range\n"
     ]
    }
   ],
   "source": [
    "def f():\n",
    "    l = [1, 2 , 4]\n",
    "    print(l[3])\n",
    "\n",
    "try:\n",
    "    f()\n",
    "except IndexError as e:\n",
    "    print(f\"Error: {e}\")"
   ]
  },
  {
   "cell_type": "code",
   "execution_count": 13,
   "id": "9df89a0a",
   "metadata": {},
   "outputs": [
    {
     "name": "stdout",
     "output_type": "stream",
     "text": [
      "Error: Both arguments must be strings\n"
     ]
    }
   ],
   "source": [
    "#We can raise exccptions\n",
    "def add_strings(s1, s2):\n",
    "    if not (isinstance(s1, str) and isinstance(s2, str)):\n",
    "        raise TypeError(\"Both arguments must be strings\")\n",
    "    return s1 + s2\n",
    "\n",
    "try:\n",
    "    sum = add_strings(\"123\", 345)\n",
    "except TypeError as e:\n",
    "    print(f\"Error: {e}\")\n",
    "else:\n",
    "    print(sum)"
   ]
  },
  {
   "cell_type": "code",
   "execution_count": 18,
   "id": "142bcd5d",
   "metadata": {},
   "outputs": [
    {
     "name": "stdout",
     "output_type": "stream",
     "text": [
      "Temperature must be an integer or float\n"
     ]
    }
   ],
   "source": [
    "class Temperature:\n",
    "    def __init__(self, celsius):\n",
    "        if not isinstance(celsius, (int, float)):\n",
    "            raise TypeError(\"Temperature must be an integer or float\")\n",
    "        elif celsius < -273:\n",
    "            raise ValueError(\"Temparture cannot be below absolute zero (-273)\")\n",
    "        self.celsius = celsius\n",
    "\n",
    "try:\n",
    "    temp = Temperature(\"-300\")\n",
    "except ValueError as e:\n",
    "    print(e)\n",
    "except TypeError as t:\n",
    "    print(t)"
   ]
  },
  {
   "cell_type": "code",
   "execution_count": 21,
   "id": "7431a819",
   "metadata": {},
   "outputs": [
    {
     "name": "stdout",
     "output_type": "stream",
     "text": [
      "Temperature must be an integer or float\n"
     ]
    }
   ],
   "source": [
    "class Temperature:\n",
    "    def __init__(self, celsius):\n",
    "        if not isinstance(celsius, (int, float)):\n",
    "            raise TypeError(\"Temperature must be an integer or float\")\n",
    "        elif celsius < -273:\n",
    "            raise ValueError(\"Temparture cannot be below absolute zero (-273)\")\n",
    "        self.celsius = celsius\n",
    "\n",
    "try:\n",
    "    temp = Temperature(\"-300\")\n",
    "except (ValueError, TypeError) as t: #Handling multiple exceptions\n",
    "    temp = Temperature(0)\n",
    "    print(t)\n"
   ]
  },
  {
   "cell_type": "code",
   "execution_count": 22,
   "id": "52c06e42",
   "metadata": {},
   "outputs": [],
   "source": [
    "#Create our custom type exception\n",
    "\n",
    "class TemperatureRangeError(ValueError):\n",
    "    '''Raised when the temperature range is invalid'''\n",
    "    pass\n",
    "\n",
    "class Temperature:\n",
    "    def __init__(self, celsius):\n",
    "        if not isinstance(celsius, (int, float)):\n",
    "            raise TypeError(\"Temperature must be an integer or float\")\n",
    "        elif celsius < -273:\n",
    "            raise ValueError(\"Temparture cannot be below absolute zero (-273)\")\n",
    "        self.celsius = celsius\n",
    "        self.min_temp = 0\n",
    "        self.max_temp = 0\n",
    "\n",
    "    def set_range(self, min_temp, max_temp):\n",
    "        if not (isinstance(min_temp, Temperature) and isinstance(max_temp, Temperature)):\n",
    "            raise TypeError(\"min_temp and max_temp should be Temperature objects\")\n",
    "        elif min_temp.celsius > max_temp.celsius:\n",
    "            raise TemperatureRangeError(\"min_temp must be lower than max_temp\")\n",
    "        self.min_temp = min_temp.celsius\n",
    "        self.max_temp = max_temp.celsius\n",
    "\n",
    "try:\n",
    "    temp = Temperature(-30)\n",
    "    temp.set_range(Temperature(1), Temperature(10))\n",
    "except (ValueError, TypeError) as t: #Handling multiple exceptions\n",
    "    temp = Temperature(0)\n",
    "    print(t)"
   ]
  }
 ],
 "metadata": {
  "kernelspec": {
   "display_name": "Python 3",
   "language": "python",
   "name": "python3"
  },
  "language_info": {
   "codemirror_mode": {
    "name": "ipython",
    "version": 3
   },
   "file_extension": ".py",
   "mimetype": "text/x-python",
   "name": "python",
   "nbconvert_exporter": "python",
   "pygments_lexer": "ipython3",
   "version": "3.12.1"
  }
 },
 "nbformat": 4,
 "nbformat_minor": 5
}
