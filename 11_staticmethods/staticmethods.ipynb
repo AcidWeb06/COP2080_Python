{
 "cells": [
  {
   "cell_type": "code",
   "execution_count": null,
   "id": "dfd6b972",
   "metadata": {},
   "outputs": [
    {
     "name": "stdout",
     "output_type": "stream",
     "text": [
      ".img\n",
      ".txt\n",
      "\n"
     ]
    }
   ],
   "source": [
    "class PathUtils:\n",
    "    @staticmethod\n",
    "    def get_extension(filename):\n",
    "        \"\"\"\"Return a file extension (including the dot)\"\"\"\n",
    "        return filename[filename.rfind(\".\"):] if \".\" in filename else \"\"\n",
    "    \n",
    "    @staticmethod\n",
    "    #Return the directory path without the file name\n",
    "    def get_directory(path):\n",
    "        pass\n",
    "    #Return the file name from the directory path\n",
    "    def get_basename(path):\n",
    "        pass\n",
    "    \n",
    "#Use the class\n",
    "print(PathUtils.get_extension(\"image.img\"))\n",
    "print(PathUtils.get_extension(\"1.txt\"))\n",
    "print(PathUtils.get_extension(\"test\"))"
   ]
  }
 ],
 "metadata": {
  "kernelspec": {
   "display_name": "Python 3",
   "language": "python",
   "name": "python3"
  },
  "language_info": {
   "codemirror_mode": {
    "name": "ipython",
    "version": 3
   },
   "file_extension": ".py",
   "mimetype": "text/x-python",
   "name": "python",
   "nbconvert_exporter": "python",
   "pygments_lexer": "ipython3",
   "version": "3.12.1"
  }
 },
 "nbformat": 4,
 "nbformat_minor": 5
}
