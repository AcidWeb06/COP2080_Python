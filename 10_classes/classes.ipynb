{
 "cells": [
  {
   "cell_type": "code",
   "execution_count": 6,
   "id": "4d7eb82f",
   "metadata": {},
   "outputs": [
    {
     "name": "stdout",
     "output_type": "stream",
     "text": [
      "Human\n",
      "Human\n",
      "Darth Vader\n"
     ]
    }
   ],
   "source": [
    "class Person:\n",
    "    species = 'Human'\n",
    "\n",
    "print(Person.species)\n",
    "\n",
    "man = Person()\n",
    "print(man.species)\n",
    "\n",
    "man.name = 'Darth'\n",
    "man.surname = 'Vader'\n",
    "print(man.name, man.surname)"
   ]
  },
  {
   "cell_type": "code",
   "execution_count": 7,
   "id": "96518448",
   "metadata": {},
   "outputs": [
    {
     "name": "stdout",
     "output_type": "stream",
     "text": [
      "10\n",
      "7\n",
      "12\n",
      "10\n",
      "10\n",
      "3\n"
     ]
    }
   ],
   "source": [
    "class Point:\n",
    "    x = 10\n",
    "    y = 7\n",
    "p = Point()\n",
    "print(p.x)\n",
    "print(p.y)\n",
    "\n",
    "p.x = 12\n",
    "print(p.x)\n",
    "print(Point.x)\n",
    "\n",
    "del p.x\n",
    "print(p.x)\n",
    "\n",
    "p.z = 3\n",
    "print(p.z) \n"
   ]
  },
  {
   "cell_type": "code",
   "execution_count": null,
   "id": "262e8b63",
   "metadata": {},
   "outputs": [
    {
     "name": "stdout",
     "output_type": "stream",
     "text": [
      "Woof! Woof!\n"
     ]
    }
   ],
   "source": [
    "#Dog class\n",
    "\n",
    "class Dog:\n",
    "    def bark(self): #self refers to an instance of the class\n",
    "        return \"Woof! Woof!\"\n",
    "    \n",
    "#Create an instance of Dog\n",
    "my_dog = Dog()\n",
    "#Calls the bark method\n",
    "print(my_dog.bark())"
   ]
  },
  {
   "cell_type": "code",
   "execution_count": 14,
   "id": "3002917e",
   "metadata": {},
   "outputs": [
    {
     "name": "stdout",
     "output_type": "stream",
     "text": [
      "64\n",
      "100\n"
     ]
    }
   ],
   "source": [
    "class Square:\n",
    "    side = 8\n",
    "    #Create an instance method area\n",
    "\n",
    "#Create an instance of square\n",
    "#Print the area\n",
    "    def area(self):\n",
    "        return self.side**2\n",
    "\n",
    "s1 = Square()\n",
    "print(s1.area())\n",
    "s1.side = 10\n",
    "print(s1.area())"
   ]
  },
  {
   "cell_type": "code",
   "execution_count": 17,
   "id": "759ef0b7",
   "metadata": {},
   "outputs": [
    {
     "name": "stdout",
     "output_type": "stream",
     "text": [
      "Leopold\n"
     ]
    }
   ],
   "source": [
    "#__init__ method (constructor)\n",
    "#use it to initialize the properties of a new object\n",
    "\n",
    "class Cat:\n",
    "    def __init__(self, name):\n",
    "        self.name = name\n",
    "\n",
    "leopold = Cat(\"Leopold\")\n",
    "print(leopold.name)"
   ]
  },
  {
   "cell_type": "code",
   "execution_count": 5,
   "id": "fd3e44c8",
   "metadata": {},
   "outputs": [
    {
     "name": "stdout",
     "output_type": "stream",
     "text": [
      "G-Wagon is driving\n"
     ]
    }
   ],
   "source": [
    "class Car:\n",
    "    def __init__(self, model):\n",
    "        self.model = model\n",
    "\n",
    "    def drive(self):\n",
    "        return f\"{self.model} is driving\" \n",
    "        \n",
    "car1 = Car(\"G-Wagon\")\n",
    "print(car1.drive())"
   ]
  },
  {
   "cell_type": "code",
   "execution_count": 1,
   "id": "601db4a5",
   "metadata": {},
   "outputs": [
    {
     "name": "stdout",
     "output_type": "stream",
     "text": [
      "28.274333882308138\n",
      "9.42477796076938\n"
     ]
    }
   ],
   "source": [
    "import math\n",
    "\n",
    "class Circle:\n",
    "    #Construct a circle object\n",
    "    def __init__(self, radius = 1):\n",
    "        self.radius = radius\n",
    "\n",
    "    def setRadius(self, newRadius):\n",
    "        self.radius = newRadius\n",
    "    \n",
    "    def getPerimeter(self):\n",
    "        return self.radius * math.pi\n",
    "    \n",
    "    \n",
    "    def getArea(self):\n",
    "        return self.radius**2 * math.pi\n",
    "    \n",
    "\n",
    "c1 = Circle()\n",
    "c1.setRadius(3)\n",
    "print(c1.getArea())\n",
    "print(c1.getPerimeter())"
   ]
  },
  {
   "cell_type": "code",
   "execution_count": 4,
   "id": "68a896a5",
   "metadata": {},
   "outputs": [
    {
     "data": {
      "text/plain": [
       "2000"
      ]
     },
     "execution_count": 4,
     "metadata": {},
     "output_type": "execute_result"
    }
   ],
   "source": [
    "class BankAccount:\n",
    "    def __init__(self, balance):\n",
    "        self.__balance = balance\n",
    "    \n",
    "    def getBalance(self):\n",
    "        return self.__balance\n",
    "    \n",
    "acc1 = BankAccount(2000)\n",
    "acc1.getBalance()"
   ]
  }
 ],
 "metadata": {
  "kernelspec": {
   "display_name": "Python 3",
   "language": "python",
   "name": "python3"
  },
  "language_info": {
   "codemirror_mode": {
    "name": "ipython",
    "version": 3
   },
   "file_extension": ".py",
   "mimetype": "text/x-python",
   "name": "python",
   "nbconvert_exporter": "python",
   "pygments_lexer": "ipython3",
   "version": "3.12.1"
  }
 },
 "nbformat": 4,
 "nbformat_minor": 5
}
