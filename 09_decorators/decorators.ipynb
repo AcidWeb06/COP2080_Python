{
 "cells": [
  {
   "cell_type": "code",
   "execution_count": 10,
   "id": "7ff6c4bc",
   "metadata": {},
   "outputs": [
    {
     "name": "stdout",
     "output_type": "stream",
     "text": [
      "f took 0.4002530574798584\n"
     ]
    }
   ],
   "source": [
    "#Define a fucntion and measure its execution time\n",
    "\n",
    "#Specific import\n",
    "from time import sleep, time\n",
    "\n",
    "def f():\n",
    "    sleep(0.4)\n",
    "\n",
    "#Get the current time\n",
    "t = time()\n",
    "f()\n",
    "print(\"f took\", time() - t)"
   ]
  },
  {
   "cell_type": "code",
   "execution_count": 11,
   "id": "841474fe",
   "metadata": {},
   "outputs": [
    {
     "name": "stdout",
     "output_type": "stream",
     "text": [
      "g took 3.601320743560791\n"
     ]
    }
   ],
   "source": [
    "def g():\n",
    "    sleep(0.2)\n",
    "\n",
    "g()\n",
    "print(\"g took\", time() - t)"
   ]
  },
  {
   "cell_type": "code",
   "execution_count": null,
   "id": "56daeeb8",
   "metadata": {},
   "outputs": [
    {
     "name": "stdout",
     "output_type": "stream",
     "text": [
      "f took: 0.40009069442749023\n",
      "g took: 0.20011615753173828\n"
     ]
    }
   ],
   "source": [
    "def measure(func):\n",
    "    t = time() #get current time\n",
    "    func() #call the receieved  unction\n",
    "    print(func.__name__, \"took:\", time() - t)\n",
    "\n",
    "measure(f)\n",
    "measure(g)"
   ]
  },
  {
   "cell_type": "code",
   "execution_count": 19,
   "id": "aef3b82a",
   "metadata": {},
   "outputs": [
    {
     "name": "stdout",
     "output_type": "stream",
     "text": [
      "f2 took: 0.10008597373962402\n",
      "f2 took: 0.5000858306884766\n",
      "f2 took: 0.7001018524169922\n"
     ]
    }
   ],
   "source": [
    "def f2(sleep_time = 0.1):\n",
    "    sleep(sleep_time)\n",
    "\n",
    "def measure(func, *args, **kwargs):\n",
    "    t = time() #get current time\n",
    "    func(*args, **kwargs) #call the recieved time\n",
    "    print(func.__name__, \"took:\", time() - t)\n",
    "\n",
    "measure(f2)\n",
    "measure(f2, 0.5)\n",
    "measure(f2, sleep_time = 0.7)"
   ]
  },
  {
   "cell_type": "code",
   "execution_count": 21,
   "id": "c2c4cc30",
   "metadata": {},
   "outputs": [
    {
     "name": "stdout",
     "output_type": "stream",
     "text": [
      "f2 took: 1.0001115798950195\n"
     ]
    }
   ],
   "source": [
    "def measure(func):\n",
    "    def wrapper(*args, **kwargs):\n",
    "        t = time()\n",
    "        func(*args, **kwargs)\n",
    "        print(func.__name__, \"took:\", time() - t)\n",
    "    return wrapper\n",
    "\n",
    "@measure\n",
    "def f2(sleep_time = 0.1):\n",
    "    sleep(sleep_time)\n",
    "\n",
    "f2(1)"
   ]
  }
 ],
 "metadata": {
  "kernelspec": {
   "display_name": "Python 3",
   "language": "python",
   "name": "python3"
  },
  "language_info": {
   "codemirror_mode": {
    "name": "ipython",
    "version": 3
   },
   "file_extension": ".py",
   "mimetype": "text/x-python",
   "name": "python",
   "nbconvert_exporter": "python",
   "pygments_lexer": "ipython3",
   "version": "3.12.1"
  }
 },
 "nbformat": 4,
 "nbformat_minor": 5
}
