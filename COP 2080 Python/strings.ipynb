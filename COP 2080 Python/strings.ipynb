{
 "cells": [
  {
   "cell_type": "code",
   "execution_count": null,
   "id": "82bb4d59",
   "metadata": {},
   "outputs": [
    {
     "name": "stdout",
     "output_type": "stream",
     "text": [
      "14\n"
     ]
    }
   ],
   "source": [
    "#len function - returns the number of elements in a string \n",
    "text = \"Hello, Python!\";\n",
    "length = len(text)\n",
    "print(length)"
   ]
  },
  {
   "cell_type": "code",
   "execution_count": 4,
   "id": "85ace42d",
   "metadata": {},
   "outputs": [
    {
     "name": "stdout",
     "output_type": "stream",
     "text": [
      "J\n",
      "h\n",
      "n\n",
      "o\n"
     ]
    }
   ],
   "source": [
    "#Acess string elements\n",
    "name = \"John\"\n",
    "print(name[0])\n",
    "print(name[2])\n",
    "\n",
    "#Use negative indices\n",
    "print(name[-1]) #The last character of the string\n",
    "print(name[-3])"
   ]
  },
  {
   "cell_type": "code",
   "execution_count": 55,
   "id": "f6add442",
   "metadata": {},
   "outputs": [
    {
     "name": "stdout",
     "output_type": "stream",
     "text": [
      "Python\n",
      "Pyt\n",
      "thon\n",
      "thoh\n",
      "n\n"
     ]
    }
   ],
   "source": [
    "#string slicing\n",
    "#To slice a string, we need to specify the start and end of the slice\n",
    "language = \"Pytnon\"\n",
    "language = language.replace(\"n\", \"h\", 1)\n",
    "print(language)\n",
    "print(language[0:3])\n",
    "\n",
    "print(language[2: len(language)])\n",
    "print(langauge[2:])\n",
    "print(language[5:])"
   ]
  },
  {
   "cell_type": "code",
   "execution_count": 26,
   "id": "8d6bbab2",
   "metadata": {},
   "outputs": [
    {
     "name": "stdout",
     "output_type": "stream",
     "text": [
      "hon\n",
      "Pto\n",
      "nhy\n",
      "nohtyP\n"
     ]
    }
   ],
   "source": [
    "#you can use negative indices\n",
    "language = \"Python\"\n",
    "\n",
    "print(language[-3:])\n",
    "print(language[::2])\n",
    "print(language[::-2])\n",
    "print(langauge[::-1])"
   ]
  },
  {
   "cell_type": "code",
   "execution_count": 31,
   "id": "373ec9a8",
   "metadata": {},
   "outputs": [
    {
     "name": "stdout",
     "output_type": "stream",
     "text": [
      "456\n",
      "456\n",
      "12389\n"
     ]
    }
   ],
   "source": [
    "#print the second half of text\n",
    "text = \"123456\"\n",
    "print(text[3:])\n",
    "print(text[len(text) // 2:])\n",
    "\n",
    "text = \"123456789\"\n",
    "#print first three characters + 2 characters\n",
    "print(text[:3] + text[-2:])"
   ]
  },
  {
   "cell_type": "code",
   "execution_count": 35,
   "id": "6a2aac67",
   "metadata": {},
   "outputs": [
    {
     "name": "stdout",
     "output_type": "stream",
     "text": [
      "The person is a teen\n"
     ]
    }
   ],
   "source": [
    "age = 14\n",
    "print(\"The person is a\", end=\" \")\n",
    "if age < 2:\n",
    "    print(\"baby\")\n",
    "elif age < 4:\n",
    "    print(\"toddler\")\n",
    "elif age < 13:\n",
    "    print(\"kid\")\n",
    "elif age < 20:\n",
    "    print(\"teen\")\n",
    "else:\n",
    "    print(\"adult\")"
   ]
  },
  {
   "cell_type": "code",
   "execution_count": 42,
   "id": "21957d08",
   "metadata": {},
   "outputs": [
    {
     "name": "stdout",
     "output_type": "stream",
     "text": [
      "Toyota\n",
      "BMW\n",
      "AUDI\n",
      "Volkswagen\n",
      "Nissan\n"
     ]
    }
   ],
   "source": [
    "#split\n",
    "makes = \"toyota, bmw, audi, volkswagen, nissan\"\n",
    "\n",
    "car_makes = makes.split(\",\") #car_makes is a list of strings\n",
    "\n",
    "#iterate through the list\n",
    "for make in car_makes: \n",
    "    make = make.lstrip()\n",
    "    if make == \"bmw\" or make == \"audi\":\n",
    "        print(make.upper())\n",
    "    else:\n",
    "        print(make.title())"
   ]
  },
  {
   "cell_type": "code",
   "execution_count": 44,
   "id": "2a4a9136",
   "metadata": {},
   "outputs": [
    {
     "name": "stdout",
     "output_type": "stream",
     "text": [
      "Toyota\n",
      "BMW\n",
      "AUDI\n",
      "Volkswagen\n",
      "Nissan\n"
     ]
    }
   ],
   "source": [
    "makes = \"toyota, bmw, audi, volkswagen, nissan\"\n",
    "\n",
    "car_makes = makes.split(\",\") #car_makes is a list of strings\n",
    "\n",
    "#iterate through the list\n",
    "for make in car_makes: \n",
    "    make = make.lstrip()\n",
    "    if make in[\"bmw\", \"audi\"]:\n",
    "        print(make.upper())\n",
    "    else:\n",
    "        print(make.title())"
   ]
  },
  {
   "cell_type": "code",
   "execution_count": 49,
   "id": "2666aa6e",
   "metadata": {},
   "outputs": [
    {
     "name": "stdout",
     "output_type": "stream",
     "text": [
      "1\n",
      "3\n",
      "5\n",
      "7\n",
      "9\n",
      "1\n",
      "4\n",
      "9\n",
      "16\n",
      "25\n",
      "36\n",
      "49\n",
      "64\n",
      "81\n",
      "100\n",
      "121\n",
      "144\n",
      "169\n",
      "196\n",
      "225\n",
      "256\n",
      "289\n",
      "324\n",
      "361\n",
      "400\n"
     ]
    }
   ],
   "source": [
    "#for loop\n",
    "#range() BIF\n",
    "for i in range(1, 10, 2):\n",
    "    print(i)\n",
    "\n",
    "#print all the sqaures from 1 to 20\n",
    "for i in range(1, 21):\n",
    "    print(i * i)"
   ]
  }
 ],
 "metadata": {
  "kernelspec": {
   "display_name": "Python 3",
   "language": "python",
   "name": "python3"
  },
  "language_info": {
   "codemirror_mode": {
    "name": "ipython",
    "version": 3
   },
   "file_extension": ".py",
   "mimetype": "text/x-python",
   "name": "python",
   "nbconvert_exporter": "python",
   "pygments_lexer": "ipython3",
   "version": "3.12.1"
  }
 },
 "nbformat": 4,
 "nbformat_minor": 5
}
