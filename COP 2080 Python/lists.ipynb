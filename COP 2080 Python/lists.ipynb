{
 "cells": [
  {
   "cell_type": "code",
   "execution_count": 2,
   "id": "681ae109",
   "metadata": {},
   "outputs": [
    {
     "name": "stdout",
     "output_type": "stream",
     "text": [
      "[15, 30, 45]\n"
     ]
    }
   ],
   "source": [
    "multiples = [x for x in range(1, 51) if x % 3 == 0 and x % 5 == 0]\n",
    "print(multiples)"
   ]
  },
  {
   "cell_type": "code",
   "execution_count": 7,
   "id": "e8b25692",
   "metadata": {},
   "outputs": [
    {
     "name": "stdout",
     "output_type": "stream",
     "text": [
      "[1, 4, 9, 16, 25, 36, 49, 64, 81, 100, 121, 144, 169, 196, 225, 256, 289, 324, 361, 400, 441, 484, 529, 576, 625]\n"
     ]
    }
   ],
   "source": [
    "number = input(\"Enter a number: \")\n",
    "squares = [x**2 for x in range(1, int(number) + 1)]\n",
    "\n",
    "print(squares)"
   ]
  },
  {
   "cell_type": "code",
   "execution_count": 8,
   "id": "9c8a915b",
   "metadata": {},
   "outputs": [
    {
     "name": "stdout",
     "output_type": "stream",
     "text": [
      "[1, 2, 22, 3, 5]\n"
     ]
    }
   ],
   "source": [
    "num = [1, 2, 3]\n",
    "num.append(5)\n",
    "num.insert(2, 22)\n",
    "print(num)"
   ]
  },
  {
   "cell_type": "code",
   "execution_count": 10,
   "id": "09526353",
   "metadata": {},
   "outputs": [
    {
     "name": "stdout",
     "output_type": "stream",
     "text": [
      "[1, 2, 3]\n",
      "1\n"
     ]
    }
   ],
   "source": [
    "numbers = [1, 2, 2, 3]\n",
    "numbers.remove(2)\n",
    "print(numbers)\n",
    "print(numbers.index(2))"
   ]
  },
  {
   "cell_type": "code",
   "execution_count": 11,
   "id": "c4b10b9a",
   "metadata": {},
   "outputs": [
    {
     "name": "stdout",
     "output_type": "stream",
     "text": [
      "2\n",
      "[-1, 2, 2, 6]\n",
      "[6, 2, 2, -1]\n"
     ]
    }
   ],
   "source": [
    "numbers = [2, 6, 2, -1]\n",
    "print(numbers.count(2))\n",
    "numbers.sort()\n",
    "print(numbers)\n",
    "numbers.sort(reverse = True)\n",
    "print(numbers)"
   ]
  },
  {
   "cell_type": "code",
   "execution_count": 21,
   "id": "5240a846",
   "metadata": {},
   "outputs": [
    {
     "name": "stdout",
     "output_type": "stream",
     "text": [
      "[1, 2, 3]\n",
      "False\n"
     ]
    }
   ],
   "source": [
    "#Get the list\n",
    "n = int(input(\"Enter the number of elements:\"))\n",
    "elements = []\n",
    "\n",
    "while n:\n",
    "    elements.append(int(input()))\n",
    "    n -= 1\n",
    "\n",
    "print(elements)\n",
    "\n",
    "#Print true id all elements are the same\n",
    "#Print false otherwise\n",
    "if(len(elements) < 2):\n",
    "    print(\"True\")\n",
    "else:\n",
    "    print(bool(elements.count(elements[0]) == len(elements)))"
   ]
  },
  {
   "cell_type": "code",
   "execution_count": 13,
   "id": "c698acaa",
   "metadata": {},
   "outputs": [
    {
     "name": "stdout",
     "output_type": "stream",
     "text": [
      "(1, 2, 'hello', 3.14)\n",
      "1\n",
      "(1, 2)\n",
      "True\n",
      "False\n",
      "1 2 hello 3.14\n",
      "Hello\n"
     ]
    }
   ],
   "source": [
    "my_tuple = (1, 2, \"hello\", 3.14)\n",
    "print(my_tuple)\n",
    "\n",
    "print(my_tuple[0])\n",
    "print(my_tuple[0:2])\n",
    "\n",
    "#Membership Testing\n",
    "print(1 in my_tuple)\n",
    "print(5 in my_tuple)\n",
    "\n",
    "#Tuple Unpacking\n",
    "a, b, c, d = my_tuple\n",
    "print(a, b, c, d)\n",
    "print(c.title())"
   ]
  },
  {
   "cell_type": "code",
   "execution_count": 9,
   "id": "17a120c9",
   "metadata": {},
   "outputs": [
    {
     "name": "stdout",
     "output_type": "stream",
     "text": [
      "2\n"
     ]
    }
   ],
   "source": [
    "#Nested Tuple\n",
    "points = (\n",
    "    (1, 2, 3),\n",
    "    (4, 5, 6),\n",
    "    (7, 8, 9)\n",
    ")\n",
    "\n",
    "print(points[0][1])"
   ]
  }
 ],
 "metadata": {
  "kernelspec": {
   "display_name": "Python 3",
   "language": "python",
   "name": "python3"
  },
  "language_info": {
   "codemirror_mode": {
    "name": "ipython",
    "version": 3
   },
   "file_extension": ".py",
   "mimetype": "text/x-python",
   "name": "python",
   "nbconvert_exporter": "python",
   "pygments_lexer": "ipython3",
   "version": "3.12.1"
  }
 },
 "nbformat": 4,
 "nbformat_minor": 5
}
