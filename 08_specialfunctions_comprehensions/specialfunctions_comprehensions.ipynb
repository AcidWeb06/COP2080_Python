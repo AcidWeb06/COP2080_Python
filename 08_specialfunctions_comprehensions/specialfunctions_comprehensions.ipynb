{
 "cells": [
  {
   "cell_type": "code",
   "execution_count": 1,
   "id": "27de4d07",
   "metadata": {},
   "outputs": [
    {
     "name": "stdout",
     "output_type": "stream",
     "text": [
      "[1, 4, 9, 16]\n"
     ]
    }
   ],
   "source": [
    "#\n",
    "numbers = [1, 2, 3, 4]\n",
    "sqaured = map(lambda x: x**2, numbers)\n",
    "print(list(sqaured))"
   ]
  },
  {
   "cell_type": "code",
   "execution_count": 3,
   "id": "4ea0eb37",
   "metadata": {},
   "outputs": [
    {
     "name": "stdout",
     "output_type": "stream",
     "text": [
      "['WHAT', 'WILL', 'YOU', 'HAVE', 'AFTER', '500', 'YEARS']\n"
     ]
    }
   ],
   "source": [
    "#capitalize each word in list\n",
    "words = ['what', 'will', 'you', 'have', 'after', '500', 'years']\n",
    "cw = map(str.upper, words)\n",
    "print(list(cw))"
   ]
  },
  {
   "cell_type": "code",
   "execution_count": 4,
   "id": "8a4e5454",
   "metadata": {},
   "outputs": [
    {
     "name": "stdout",
     "output_type": "stream",
     "text": [
      "['Hello World', 'Python Programming', 'Data Science']\n"
     ]
    }
   ],
   "source": [
    "#Cleaning up text\n",
    "texts = ['  Hello  World   ', \"Python    Programming \", 'Data     Science  ']\n",
    "cm = map(lambda s: \" \".join(s.split()), texts)\n",
    "\n",
    "print(list(cm))"
   ]
  },
  {
   "cell_type": "code",
   "execution_count": 5,
   "id": "2c5bb814",
   "metadata": {},
   "outputs": [
    {
     "name": "stdout",
     "output_type": "stream",
     "text": [
      "['dkin@example.com']\n"
     ]
    }
   ],
   "source": [
    "#In dictionaries\n",
    "users = [\n",
    "    {\"id\": 1, \"name\": \"David\", \"email\": \"dkin@example.com\"}\n",
    "]\n",
    "emails = map(lambda user: user[\"email\"], users)\n",
    "print(list(emails))"
   ]
  },
  {
   "cell_type": "code",
   "execution_count": null,
   "id": "577d0650",
   "metadata": {},
   "outputs": [
    {
     "name": "stdout",
     "output_type": "stream",
     "text": [
      "[2, 4, 6]\n"
     ]
    }
   ],
   "source": [
    "#The filter() function applies a predicate function(one returning True or False) to each item in an iterable and returns an indicator\n",
    "numbers = [1, 2, 3, 4, 5, 6]\n",
    "f =filter(lambda x: x % 2 == 0, numbers)\n",
    "print(list(f))"
   ]
  },
  {
   "cell_type": "code",
   "execution_count": null,
   "id": "3c69427a",
   "metadata": {},
   "outputs": [
    {
     "name": "stdout",
     "output_type": "stream",
     "text": [
      "[4, 16, 36]\n"
     ]
    }
   ],
   "source": [
    "#Fliters the even values in the list \"numbers\" and sqaures them.\n",
    "numbers = [1, 2, 3, 4, 5, 6]\n",
    "result = map(lambda x: x**2, filter(lambda x: x % 2 == 0, numbers))\n",
    "print(list(result))"
   ]
  },
  {
   "cell_type": "code",
   "execution_count": 9,
   "id": "dd1b7061",
   "metadata": {},
   "outputs": [
    {
     "name": "stdout",
     "output_type": "stream",
     "text": [
      "[0, 1, 4, 9, 16]\n",
      "[0, 2, 4, 6, 8]\n"
     ]
    }
   ],
   "source": [
    "#Comprehensions\n",
    "#Create  a list of sqaures for numbers 0 to 4\n",
    "sqaures = [x**2 for x in range(5)]\n",
    "print(sqaures)\n",
    "\n",
    "evens = [x for x in range(10) if x % 2 == 0]\n",
    "print(evens)"
   ]
  },
  {
   "cell_type": "code",
   "execution_count": null,
   "id": "f9aeeb02",
   "metadata": {},
   "outputs": [
    {
     "name": "stdout",
     "output_type": "stream",
     "text": [
      "[16, 36, 64, 100, 144, 196, 256, 324]\n",
      "[100, 144, 196, 256, 324, 400, 484, 576, 676, 784, 900, 1024, 1156, 1296, 1444, 1600, 1764, 1936, 2116, 2304, 2500, 2704, 2916, 3136, 3364, 3600, 3844, 4096, 4356, 4624, 4900, 5184, 5476, 5776, 6084, 6400, 6724, 7056, 7396, 7744, 8100, 8464, 8836, 9216, 9604, 10000]\n",
      "['HELLO', 'BANANA', 'POLY']\n",
      "{'apple': 5, 'kiwi': 4, 'banana': 6}\n"
     ]
    }
   ],
   "source": [
    "#Create a function that returns squares of even numbers in the given range\n",
    "def squares_of_evens(start, end):\n",
    "    return[x**2 for x in range(start, end + 1) if x % 2 == 0]\n",
    "\n",
    "print(squares_of_evens(4, 19))\n",
    "print(squares_of_evens(10, 100))\n",
    "\n",
    "def long_upper_words(words):\n",
    "    '''Return a list of uppercase words longer than 3 characters'''\n",
    "    return [w.upper() for w in words if len(w) > 3]\n",
    "\n",
    "words = [\"hello\", \"banana\", \"BMW\", \"bye\", \"POLY\"]\n",
    "print(long_upper_words(words))\n",
    "\n",
    "#Create a function that returns a dictionary, mapping each word to its length from a list of words\n",
    "def word_lengths(words):\n",
    "    return {w: len(w) for w in words} \n",
    "\n",
    "words = {\"apple\", \"banana\", \"kiwi\"}\n",
    "print(word_lengths(words))"
   ]
  },
  {
   "cell_type": "code",
   "execution_count": 4,
   "id": "7b1a7bb0",
   "metadata": {},
   "outputs": [
    {
     "name": "stdout",
     "output_type": "stream",
     "text": [
      "['H5SJS']\n"
     ]
    }
   ],
   "source": [
    "strings = [\"AMC12\", \"H5SJS\", \"KYZU9\", \"1T3G5\", \"C4SFRD\"]\n",
    "print(list(filter(lambda x: len(x) == 5 and x[1].isdigit() and not x[2].isdigit(), strings)))"
   ]
  }
 ],
 "metadata": {
  "kernelspec": {
   "display_name": "Python 3",
   "language": "python",
   "name": "python3"
  },
  "language_info": {
   "codemirror_mode": {
    "name": "ipython",
    "version": 3
   },
   "file_extension": ".py",
   "mimetype": "text/x-python",
   "name": "python",
   "nbconvert_exporter": "python",
   "pygments_lexer": "ipython3",
   "version": "3.12.1"
  }
 },
 "nbformat": 4,
 "nbformat_minor": 5
}
