{
 "cells": [
  {
   "cell_type": "code",
   "execution_count": 3,
   "id": "3856b8e8",
   "metadata": {},
   "outputs": [
    {
     "name": "stdout",
     "output_type": "stream",
     "text": [
      "{'name': 'Jack', 'age': 25, 'city': 'Lakeland'}\n",
      "{'name': 'Anna', 'age': 19, 'city': 'Orlando'}\n"
     ]
    }
   ],
   "source": [
    "my_dict = {\"name\": \"Jack\", \"age\": 25, \"city\": \"Lakeland\"}\n",
    "my_dict2 = dict(name = \"Anna\", age = 19, city = \"Orlando\")\n",
    "\n",
    "print(my_dict)\n",
    "print(my_dict2)"
   ]
  },
  {
   "cell_type": "code",
   "execution_count": 7,
   "id": "f375e475",
   "metadata": {},
   "outputs": [
    {
     "name": "stdout",
     "output_type": "stream",
     "text": [
      "{'name': 'Jack', 'age': 25, 'city': 'Lakeland'}\n",
      "{'name': 'Anna', 'age': 19, 'city': 'Orlando'}\n",
      "{'name': 'Jack', 'age': 26, 'city': 'Lakeland', 'email': 'jack0987@floridapoly.edu'}\n",
      "not found\n",
      "dict_keys(['name', 'age', 'city', 'email'])\n",
      "dict_values(['Jack', 26, 'Lakeland', 'jack0987@floridapoly.edu'])\n",
      "dict_items([('name', 'Jack'), ('age', 26), ('city', 'Lakeland'), ('email', 'jack0987@floridapoly.edu')])\n",
      "name Anna\n",
      "age 19\n",
      "city Orlando\n",
      "name -> Jack\n",
      "age -> 26\n",
      "city -> Lakeland\n",
      "email -> jack0987@floridapoly.edu\n"
     ]
    }
   ],
   "source": [
    "#Access a value\n",
    "my_dict = {\"name\": \"Jack\", \"age\": 25, \"city\": \"Lakeland\"}\n",
    "my_dict2 = dict(name = \"Anna\", age = 19, city = \"Orlando\")\n",
    "\n",
    "print(my_dict)\n",
    "print(my_dict2)\n",
    "\n",
    "#Modify value\n",
    "my_dict[\"age\"] = 26\n",
    "\n",
    "#Add a mew key-value pair\n",
    "my_dict[\"email\"] = \"jack0987@floridapoly.edu\"\n",
    "print(my_dict)\n",
    "\n",
    "#print(my_dict[\"address\"]) #Cannot grab nonexistant pairs, generates an error\n",
    "\n",
    "#Get method returns a fallback value \"not found instead of generating an error if the key doesn't exist\"\n",
    "print(my_dict.get(\"address\", \"not found\"))\n",
    "\n",
    "#.keys() - Returns all keys\n",
    "print(my_dict.keys())\n",
    "\n",
    "#.values() - Returns all values\n",
    "print(my_dict.values())\n",
    "\n",
    "#.items() - Returns key-value pairs\n",
    "print(my_dict.items())\n",
    "\n",
    "#Iteration over dictionaries\n",
    "info = dict(name = \"Anna\", age = 19, city = \"Orlando\")\n",
    "for key in info:\n",
    "    print(key, info[key])\n",
    "\n",
    "for key, value in my_dict.items():\n",
    "    print(f\"{key} -> {value}\")\n",
    "\n"
   ]
  },
  {
   "cell_type": "code",
   "execution_count": 12,
   "id": "898222b9",
   "metadata": {},
   "outputs": [
    {
     "name": "stdout",
     "output_type": "stream",
     "text": [
      "{'apple': 3, 'banana': 1, 'orange': 2}\n"
     ]
    }
   ],
   "source": [
    "#Count the frequency of words\n",
    "msg = \"apple banana orange apple orange apple\"\n",
    "words = msg.split(\" \")\n",
    "word_count = {}\n",
    "for word in words:\n",
    "    word_count[word] = word_count.get(word, 0) + 1\n",
    "\n",
    "print(word_count)"
   ]
  },
  {
   "cell_type": "code",
   "execution_count": 13,
   "id": "45775bf3",
   "metadata": {},
   "outputs": [
    {
     "name": "stdout",
     "output_type": "stream",
     "text": [
      "{'green', 'blue', 'red'}\n",
      "{1, 2, 3, 4}\n",
      "set()\n"
     ]
    }
   ],
   "source": [
    "#Create a set \n",
    "#Set is a collection of unique elements (no dupilcates)\n",
    "\n",
    "colors = {\"red\", \"green\", \"blue\"}\n",
    "numbers = set([1, 2, 3, 4, 3])\n",
    "\n",
    "#empty set\n",
    "empty_set = set()\n",
    "\n",
    "print(colors)\n",
    "print(numbers)\n",
    "print(empty_set)"
   ]
  },
  {
   "cell_type": "code",
   "execution_count": 17,
   "id": "dbb3cd60",
   "metadata": {},
   "outputs": [
    {
     "name": "stdout",
     "output_type": "stream",
     "text": [
      "{1, 2, 3, 4, 5, 6, 7}\n",
      "{3, 4, 5}\n",
      "{1, 2}\n",
      "{6, 7}\n",
      "{1, 2, 6, 7}\n"
     ]
    }
   ],
   "source": [
    "set1 = {1, 2, 3, 4, 5}\n",
    "set2 = {3, 4, 5 , 6, 7}\n",
    "\n",
    "#Combines elements from two sets (union)\n",
    "union_set = set1 | set2\n",
    "\n",
    "#Intersection of two sets\n",
    "intersection_set = set1 & set2\n",
    "\n",
    "#Difference of two sets\n",
    "difference_set = set1 - set2\n",
    "difference_set2 = set2 - set1\n",
    "difference_set3 = set1 ^ set2\n",
    "\n",
    "print(union_set)\n",
    "print(intersection_set)\n",
    "print(difference_set)\n",
    "print(difference_set2)\n",
    "print(difference_set3)"
   ]
  },
  {
   "cell_type": "code",
   "execution_count": 3,
   "id": "87d9b2c1",
   "metadata": {},
   "outputs": [
    {
     "name": "stdout",
     "output_type": "stream",
     "text": [
      "{'purple', 'red', 'green'}\n"
     ]
    }
   ],
   "source": [
    "colors = {\"red\", \"blue\", \"green\"}\n",
    "colors.add(\"purple\")\n",
    "colors.remove(\"blue\") #Generates an error if blue is not found in colors\n",
    "colors.discard(\"blue\") #no error if not found\n",
    "\n",
    "print(colors)"
   ]
  }
 ],
 "metadata": {
  "kernelspec": {
   "display_name": "Python 3",
   "language": "python",
   "name": "python3"
  },
  "language_info": {
   "codemirror_mode": {
    "name": "ipython",
    "version": 3
   },
   "file_extension": ".py",
   "mimetype": "text/x-python",
   "name": "python",
   "nbconvert_exporter": "python",
   "pygments_lexer": "ipython3",
   "version": "3.12.1"
  }
 },
 "nbformat": 4,
 "nbformat_minor": 5
}
