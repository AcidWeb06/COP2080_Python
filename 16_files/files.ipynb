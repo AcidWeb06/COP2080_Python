{
 "cells": [
  {
   "cell_type": "code",
   "execution_count": 3,
   "id": "cbf88616",
   "metadata": {},
   "outputs": [
    {
     "name": "stdout",
     "output_type": "stream",
     "text": [
      "/workspaces/PythonProgramming/16_files/test.py\n",
      "test.py\n",
      "/workspaces/PythonProgramming/16_files\n",
      "/workspaces/PythonProgramming\n",
      ".py\n",
      "Exists: False\n",
      "Exists: False\n"
     ]
    },
    {
     "ename": "AttributeError",
     "evalue": "'PosixPath' object has no attribute 'is_directory'",
     "output_type": "error",
     "traceback": [
      "\u001b[31m---------------------------------------------------------------------------\u001b[39m",
      "\u001b[31mAttributeError\u001b[39m                            Traceback (most recent call last)",
      "\u001b[36mCell\u001b[39m\u001b[36m \u001b[39m\u001b[32mIn[3]\u001b[39m\u001b[32m, line 21\u001b[39m\n\u001b[32m     19\u001b[39m \u001b[38;5;28mprint\u001b[39m(\u001b[33mf\u001b[39m\u001b[33m\"\u001b[39m\u001b[33mExists: \u001b[39m\u001b[38;5;132;01m{\u001b[39;00mcur.exists()\u001b[38;5;132;01m}\u001b[39;00m\u001b[33m\"\u001b[39m)\n\u001b[32m     20\u001b[39m \u001b[38;5;28mprint\u001b[39m(\u001b[33mf\u001b[39m\u001b[33m\"\u001b[39m\u001b[33mExists: \u001b[39m\u001b[38;5;132;01m{\u001b[39;00mcur.is_file()\u001b[38;5;132;01m}\u001b[39;00m\u001b[33m\"\u001b[39m)\n\u001b[32m---> \u001b[39m\u001b[32m21\u001b[39m \u001b[38;5;28mprint\u001b[39m(\u001b[33mf\u001b[39m\u001b[33m\"\u001b[39m\u001b[33mExists: \u001b[39m\u001b[38;5;132;01m{\u001b[39;00m\u001b[43mcur\u001b[49m\u001b[43m.\u001b[49m\u001b[43mis_directory\u001b[49m()\u001b[38;5;132;01m}\u001b[39;00m\u001b[33m\"\u001b[39m)\n\u001b[32m     23\u001b[39m \u001b[38;5;66;03m#Creates \u001b[39;00m\n\u001b[32m     24\u001b[39m dir_name1 = \u001b[33m\"\u001b[39m\u001b[33mdir1\u001b[39m\u001b[33m\"\u001b[39m\n",
      "\u001b[31mAttributeError\u001b[39m: 'PosixPath' object has no attribute 'is_directory'"
     ]
    }
   ],
   "source": [
    "from pathlib import Path \n",
    "#Create text files in the current directory\n",
    "#1.txt 2.txt 3.txt 4.txt 5.txt\n",
    "\n",
    "for i in range(1, 6):\n",
    "    with open(f\"{i}.txt\", \"w\") as file:\n",
    "        file.write(f\"Writing into {file.name} file\")\n",
    "\n",
    "cur = Path(\"test.py\")\n",
    "\n",
    "#Show some Path attributes\n",
    "print(cur.absolute()) #absolute path\n",
    "print(cur.name) #file name\n",
    "print(cur.absolute().parent) #parent of the file\n",
    "print(cur.absolute().parent.parent) #grandparent of the file\n",
    "print(cur.suffix) #File extension \n",
    "\n",
    "#Methods\n",
    "print(f\"Exists: {cur.exists()}\")\n",
    "print(f\"Exists: {cur.is_file()}\")\n",
    "print(f\"Exists: {cur.is_directory()}\")\n",
    "\n",
    "#Creates \n",
    "dir_name1 = \"dir1\"\n",
    "dir_name2 = \"dir2\"\n",
    "dir_name3 = \"dir3\"\n",
    "dirs = [dir_name1, dir_name2, dir_name3]\n",
    "for dir in dirs:\n",
    "    new_path = Path(cur.absolute().parent / dir)\n",
    "    if not new_path.exists():\n",
    "        new_path.mkdir()\n",
    "        \n",
    "print(new_path.absolute())\n",
    "\n",
    "for file in cur.parent.iterdir():\n",
    "    if file.is_file():\n",
    "        print(file.name)\n",
    "\n",
    "files = [x.name for x in cur.parent.iterdir() if x.is_file()]\n",
    "\n",
    "with open(\"file_names.txt\", \"w\") as fl:\n",
    "    fl.write(str(files))"
   ]
  }
 ],
 "metadata": {
  "kernelspec": {
   "display_name": "Python 3",
   "language": "python",
   "name": "python3"
  },
  "language_info": {
   "codemirror_mode": {
    "name": "ipython",
    "version": 3
   },
   "file_extension": ".py",
   "mimetype": "text/x-python",
   "name": "python",
   "nbconvert_exporter": "python",
   "pygments_lexer": "ipython3",
   "version": "3.12.1"
  }
 },
 "nbformat": 4,
 "nbformat_minor": 5
}
