{
 "cells": [
  {
   "cell_type": "code",
   "execution_count": null,
   "id": "efb9ea88",
   "metadata": {},
   "outputs": [
    {
     "name": "stdout",
     "output_type": "stream",
     "text": [
      "<__main__.Book object at 0x76a52bdd43b0>\n",
      "<__main__.Book object at 0x76a52bdd46e0>\n"
     ]
    }
   ],
   "source": [
    "class Book:\n",
    "    total_books = 0\n",
    "    def __init__(self, title, author, year):\n",
    "        self.title = title\n",
    "        self.author = author\n",
    "        self.year = year\n",
    "        Book.total_books += 1\n",
    "\n",
    "    @classmethod\n",
    "    def from_dict(cls, data):\n",
    "        \"\"\"Create a Book object from a dictionary\"\"\"\n",
    "        return cls(data[\"title\"], data[\"author\"], data[\"year\"])\n",
    "    \n",
    "    @classmethod\n",
    "    def reset_total_books(cls):\n",
    "        cls.total_books = 0\n",
    "        \n",
    "    \n",
    "data = {\"title\": \"Learning Python\", \"author\": \"M. Smith\", \"year\": 2023}\n",
    "\n",
    "book1 = Book(\"Python 101\", \"J. Doe\", 2024)\n",
    "book2 = Book.from_dict(data)\n",
    "\n",
    "print(book1)\n",
    "print(book2)"
   ]
  }
 ],
 "metadata": {
  "kernelspec": {
   "display_name": "Python 3",
   "language": "python",
   "name": "python3"
  },
  "language_info": {
   "codemirror_mode": {
    "name": "ipython",
    "version": 3
   },
   "file_extension": ".py",
   "mimetype": "text/x-python",
   "name": "python",
   "nbconvert_exporter": "python",
   "pygments_lexer": "ipython3",
   "version": "3.12.1"
  }
 },
 "nbformat": 4,
 "nbformat_minor": 5
}
