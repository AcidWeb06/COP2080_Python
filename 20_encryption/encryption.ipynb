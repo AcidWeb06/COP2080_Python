{
 "cells": [
  {
   "cell_type": "code",
   "execution_count": 5,
   "id": "173dcb2a",
   "metadata": {},
   "outputs": [
    {
     "name": "stdout",
     "output_type": "stream",
     "text": [
      "Public key (e, n): {(17, 3233)}\n",
      "Private key (d, n): {(2753, 3233)}\n",
      "Original: 11 > Encrypted: 3061, Decrypted: 11\n"
     ]
    }
   ],
   "source": [
    "\n",
    "\n",
    "def generate_keys():\n",
    "    #Take two prime numbers\n",
    "    p = 61\n",
    "    q = 53\n",
    "\n",
    "    #Calculate the product of primes\n",
    "    n = p * q #3233\n",
    "\n",
    "    #Let's create a public component (e)\n",
    "    #It should be a coprime of n (gcd(n, e) = 1)\n",
    "    e = 17\n",
    "\n",
    "    #Calculate the private component\n",
    "    phi = (p - 1) * (q - 1)\n",
    "    d = pow(e, -1, phi)\n",
    "\n",
    "    return (e, n), (d, n) #(public), #(private)\n",
    "\n",
    "def encrypt(message, public_key):\n",
    "    e, n = public_key\n",
    "    return pow(message, e, n)\n",
    "\n",
    "def decrypt(message, private_key):\n",
    "    d, n = private_key\n",
    "    return pow(message, d, n)\n",
    "\n",
    "public_key, private_key = generate_keys()\n",
    "print(f\"Public key (e, n):\", {public_key})\n",
    "print(f\"Private key (d, n):\", {private_key})\n",
    "\n",
    "message = 11 #Data that we want to send\n",
    "ciphertext = encrypt(message, public_key)\n",
    "decrypted = decrypt(ciphertext, private_key)\n",
    "print(f\"Original: {message} > Encrypted: {ciphertext}, Decrypted: {decrypted}\")\n"
   ]
  }
 ],
 "metadata": {
  "kernelspec": {
   "display_name": "Python 3",
   "language": "python",
   "name": "python3"
  },
  "language_info": {
   "codemirror_mode": {
    "name": "ipython",
    "version": 3
   },
   "file_extension": ".py",
   "mimetype": "text/x-python",
   "name": "python",
   "nbconvert_exporter": "python",
   "pygments_lexer": "ipython3",
   "version": "3.12.1"
  }
 },
 "nbformat": 4,
 "nbformat_minor": 5
}
